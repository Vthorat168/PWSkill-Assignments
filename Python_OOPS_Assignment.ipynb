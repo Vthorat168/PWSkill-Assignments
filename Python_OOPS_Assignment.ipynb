{
  "nbformat": 4,
  "nbformat_minor": 0,
  "metadata": {
    "colab": {
      "provenance": []
    },
    "kernelspec": {
      "name": "python3",
      "display_name": "Python 3"
    },
    "language_info": {
      "name": "python"
    }
  },
  "cells": [
    {
      "cell_type": "markdown",
      "source": [
        "# **Python OOPs Assignment Theory Questions**"
      ],
      "metadata": {
        "id": "7ULoeAgqZexS"
      }
    },
    {
      "cell_type": "markdown",
      "source": [
        "# 1. What is Object-Oriented Programming (OOP)?\n",
        "  - Object-oriented programming (OOP) is a programming paradigm that uses \"objects\", which contain data and methods (functions), to design applications and computer programs\n",
        "\n",
        "# 2. What is a class in OOP?\n",
        "  - In Object-Oriented Programming (OOP), a class is a blueprint or template for creating objects.\n",
        "\n",
        "# 3. What is an object in OOP?\n",
        "  - a self-contained unit of code that encapsulates data (attributes or properties) and the methods (functions or behaviors) that operate on that data.\n",
        "\n",
        "# 4.  What is the difference between abstraction and encapsulation?\n",
        "  - Abstraction focuses on hiding complex implementation details and showing only the essential features of an object, while encapsulation focuses on bundling data and methods that operate on that data within a single unit and controlling access to it\n",
        "\n",
        "# 5.  What are dunder methods in Python?\n",
        "  - Dunder methods, also known as magic methods or special methods, are predefined methods in Python that have double underscores (or \"dunders\") at the beginning and end of their names\n",
        "\n",
        "# 6. Explain the concept of inheritance in OOP.\n",
        "  - Inheritance in Object-Oriented Programming (OOP) is a mechanism where a new class (subclass or derived class) inherits attributes and methods from an existing class (parent class or superclass)\n",
        "\n",
        "# 7. What is polymorphism in OOP?\n",
        "  - Polymorphism, in object-oriented programming (OOP), is the ability of a variable, function, or object to take on multiple forms\n",
        "\n",
        "# 8. How is encapsulation achieved in Python?\n",
        "  - Encapsulation in Python is achieved through a combination of conventions and language features, aiming to bundle data (attributes) and methods that operate on that data within a single unit (a class), and control access to the internal state of objects.\n",
        "\n",
        "# 9. What is a constructor in Python?\n",
        "  - a constructor is a special method used to initialize a newly created object of a class. It is automatically called when an object (an instance) of a class is created.\n",
        "\n",
        "#  10. What are class and static methods in Python.\n",
        "  - class and static methods are special types of methods within a class that differ in how they interact with the class and its instances.\n",
        "\n",
        "# 11. What is method overloading in Python?\n",
        "  - the ability to define multiple methods within the same class that share the same name but differ in their parameter lists. This allows a single method name to perform different actions based on the number or types of arguments passed to it.\n",
        "\n",
        "# 12. What is method overriding in OOP?\n",
        "  - method overriding allows a subclass to provide a specific implementation of a method that is already defined in its parent class (superclass)\n",
        "\n",
        "# 13. What is a property decorator in Python?\n",
        "  - A property decorator in Python, specifically @property, is a built-in decorator that allows methods within a class to be accessed and managed as if they were attributes.\n",
        "\n",
        "# 14.  Why is polymorphism important in OOP?\n",
        "  - it allows for increased flexibility, code reusability, and maintainability\n",
        "\n",
        "# 15. What is an abstract class in Python?\n",
        "  - An abstract class in Python is a class that serves as a blueprint or template for other classes. It cannot be instantiated directly, meaning you cannot create objects of an abstract class. Its primary purpose is to define a common interface and enforce certain methods to be implemented by its subclasses.\n",
        "\n",
        "# 16. What are the advantages of OOP?\n",
        "  - (OOP) offers numerous advantages, including improved code organization, reusability, flexibility, and scalability\n",
        "\n",
        "# 17. What is the difference between a class variable and an instance variable.\n",
        "  - Class variables are associated with the class itself and are shared by all instances of that class, while instance variables are specific to each individual object (instance) of the class\n",
        "\n",
        "# 18. What is multiple inheritance in Python?\n",
        "  - Multiple inheritance in Python is a feature where a class can inherit attributes and methods from more than one parent class. This means a single child class can be derived from two or more base classes, combining the functionalities of all its parent classes.\n",
        "\n",
        "# 19.Explain the purpose of **`__str__`** and **`__repr__`** methods in Python.\n",
        "\n",
        "  -  **`__str__`**:\n",
        "\n",
        "    **Purpose**: Provides a **user-friendly** string representation of the object.\n",
        "\n",
        "  - **`__repr__`**:\n",
        "\n",
        "    **Purpose**: Provides an **unambiguous** string representation of the object, useful for debugging and development.\n",
        "\n",
        "# 20. What is the significance of the `super()` function in Python.\n",
        "  - Its primary role is to provide access to methods and properties of a parent or sibling class from within a child class.\n",
        "\n",
        "# 21. What is the significance of the `__del__` method in Python?\n",
        "  - The __del__ method in Python, also known as a destructor, is a special method that gets called when an object is about to be destroyed or garbage collected. Its primary significance lies in enabling resource cleanup.\n",
        "\n",
        "# 22. What is the difference between @staticmethod and @classmethod in Python?\n",
        "  - The primary difference between @staticmethod and @classmethod in Python lies in how they interact with the class and its instances.\n",
        "\n",
        "# 23. How does polymorphism work in Python with inheritance?\n",
        "  - when combined with inheritance, primarily manifests through method overriding. This allows objects of different classes, related by inheritance, to respond to the same method call in a way specific to their own class.\n",
        "\n",
        "# 24. What is method chaining in Python OOP?\n",
        "  - Method chaining in Python Object-Oriented Programming (OOP) is a technique that allows for the sequential invocation of multiple methods on a single object within a single line of code. This is achieved by having each method in the chain return the object itself (self) after performing its designated action.\n",
        "\n",
        "# 25. What is the purpose of the `__call__` method in Python?\n",
        "  - The __call__ method in Python is a special \"dunder\" (double underscore) method that allows instances of a class to be treated and invoked like functions. When you define __call__ within a class, you make objects of that class \"callable.\""
      ],
      "metadata": {
        "id": "83EAiZVdZq2i"
      }
    },
    {
      "cell_type": "markdown",
      "source": [
        "# **Python OOPs Assignment Practical Questions**"
      ],
      "metadata": {
        "id": "0V7MhMM9jCK6"
      }
    },
    {
      "cell_type": "markdown",
      "source": [
        "# 1. Create a parent class Animal with a method speak() that prints a generic message. Create a child class Dog that overrides the speak() method to print \"Bark!\".\n"
      ],
      "metadata": {
        "id": "KC9dB5fijKO1"
      }
    },
    {
      "cell_type": "code",
      "source": [
        "class Animal:\n",
        "    def speak(self):\n",
        "      print(\"animal speaks\")\n",
        "class Dog(Animal):\n",
        "  def speak(self):\n",
        "    print(\"Bark!\")\n",
        "\n",
        "dog = Dog()\n",
        "dog.speak()"
      ],
      "metadata": {
        "colab": {
          "base_uri": "https://localhost:8080/"
        },
        "id": "L95hgin8jVc5",
        "outputId": "499cfe82-a3a8-4091-998e-2c3381cde79c"
      },
      "execution_count": 2,
      "outputs": [
        {
          "output_type": "stream",
          "name": "stdout",
          "text": [
            "Bark!\n"
          ]
        }
      ]
    },
    {
      "cell_type": "markdown",
      "source": [
        "# 2. Write a program to create an abstract class Shape with a method area(). Derive classes Circle and Rectangle from it and implement the area() method in both."
      ],
      "metadata": {
        "id": "vM8Q0v8hjlZr"
      }
    },
    {
      "cell_type": "code",
      "source": [
        "from abc import ABC, abstractmethod\n",
        "import math\n",
        "\n",
        "# Abstract class Shape\n",
        "class Shape(ABC):\n",
        "    @abstractmethod\n",
        "    def area(self):\n",
        "        pass\n",
        "\n",
        "# Derived class Circle\n",
        "class Circle(Shape):\n",
        "    def __init__(self, radius):\n",
        "        self.radius = radius\n",
        "\n",
        "    def area(self):\n",
        "        return math.pi * self.radius ** 2  # Area of circle: π * r^2\n",
        "\n",
        "# Derived class Rectangle\n",
        "class Rectangle(Shape):\n",
        "    def __init__(self, length, width):\n",
        "        self.length = length\n",
        "        self.width = width\n",
        "\n",
        "    def area(self):\n",
        "        return self.length * self.width  # Area of rectangle: length * width\n",
        "\n",
        "# Creating objects of Circle and Rectangle\n",
        "circle = Circle(5)\n",
        "rectangle = Rectangle(4, 6)\n",
        "\n",
        "# Calculating and printing the areas\n",
        "print(f\"Area of Circle: {circle.area()}\")  # Output: Area of Circle: 78.53981633974483\n",
        "print(f\"Area of Rectangle: {rectangle.area()}\")  # Output: Area of Rectangle: 24"
      ],
      "metadata": {
        "colab": {
          "base_uri": "https://localhost:8080/"
        },
        "id": "uENXfUNWjqGH",
        "outputId": "7fa94e6b-90b2-45fa-8f6c-edaf1f14bf54"
      },
      "execution_count": 3,
      "outputs": [
        {
          "output_type": "stream",
          "name": "stdout",
          "text": [
            "Area of Circle: 78.53981633974483\n",
            "Area of Rectangle: 24\n"
          ]
        }
      ]
    },
    {
      "cell_type": "markdown",
      "source": [
        "#  3. Implement a multi-level inheritance scenario where a class Vehicle has an attribute type. Derive a class Car and further derive a class ElectricCar that adds a battery attribute."
      ],
      "metadata": {
        "id": "pGC0xWrjkG1r"
      }
    },
    {
      "cell_type": "code",
      "source": [
        "class Vehicle:\n",
        "    def __init__(self, vehicle_type):\n",
        "        self.type = vehicle_type\n",
        "\n",
        "    def display_info(self):\n",
        "        print(f\"Vehicle Type: {self.type}\")\n",
        "\n",
        "class Car(Vehicle):\n",
        "  def __init__(self, make, vehicle_type):\n",
        "    super().__init__(vehicle_type)\n",
        "    self.make = make\n",
        "\n",
        "  def display_info(self):\n",
        "    print(f\"Vehicle Type: {self.type}, Make: {self.make}\")\n",
        "\n",
        "class ElectricCar(Car):\n",
        "  def __init__(self, make, vehicle_type, battery_capacity):\n",
        "    super().__init__(make, vehicle_type)\n",
        "    self.battery_capacity = battery_capacity\n",
        "\n",
        "  def display_info(self):\n",
        "    print(f\"Vehicle Type: {self.type}, Make: {self.make}, Battery Capacity: {self.battery_capacity}\")\n",
        "\n",
        "Nexon = ElectricCar(\"Car\", \"Tata\", \"100 kWh\")\n",
        "Nexon.display_info()"
      ],
      "metadata": {
        "colab": {
          "base_uri": "https://localhost:8080/"
        },
        "id": "zihLG32okPVD",
        "outputId": "f61212f1-61a2-4019-f810-b67dfe6fadc0"
      },
      "execution_count": 11,
      "outputs": [
        {
          "output_type": "stream",
          "name": "stdout",
          "text": [
            "Vehicle Type: Tata, Make: *Car*, Battery Capacity: 100 kWh\n"
          ]
        }
      ]
    },
    {
      "cell_type": "markdown",
      "source": [
        "# 4. Demonstrate polymorphism by creating a base class Bird with a method fly(). Create two derived classes Sparrow and Penguin that override the fly() method."
      ],
      "metadata": {
        "id": "F0kKeqPvkVsY"
      }
    },
    {
      "cell_type": "code",
      "source": [
        "class Bird:\n",
        "    def fly(self):\n",
        "        print(\"Birds can fly.\")\n",
        "\n",
        "class Sparrow(Bird):\n",
        "    def fly(self):\n",
        "        print(\"Sparrows can fly.\")\n",
        "\n",
        "class Penguin(Bird):\n",
        "    def fly(self):\n",
        "        print(\"Penguins cannot fly.\")\n",
        "\n",
        "sparrow = Sparrow()\n",
        "penguin = Penguin()\n",
        "\n",
        "sparrow.fly()\n",
        "penguin.fly()"
      ],
      "metadata": {
        "colab": {
          "base_uri": "https://localhost:8080/"
        },
        "id": "2kzd3FQnkaJE",
        "outputId": "403600ca-d395-4d61-a7f2-d2d07eb084be"
      },
      "execution_count": 12,
      "outputs": [
        {
          "output_type": "stream",
          "name": "stdout",
          "text": [
            "Sparrows can fly.\n",
            "Penguins cannot fly.\n"
          ]
        }
      ]
    },
    {
      "cell_type": "markdown",
      "source": [
        "# 5. Write a program to demonstrate encapsulation by creating a class BankAccount with private attributes balance and methods to deposit, withdraw, and check balance."
      ],
      "metadata": {
        "id": "7z3RYDDCkf9B"
      }
    },
    {
      "cell_type": "code",
      "source": [
        "class BankAccout:\n",
        "  def __init__(self, balance = 0):\n",
        "    self.balance = balance\n",
        "\n",
        "  def deposit(self, amount):\n",
        "    if amount > 0:\n",
        "      self.balance += amount\n",
        "      print(f\"Deposited {amount}\")\n",
        "    else:\n",
        "      print(\"Invalid deposit amount\")\n",
        "\n",
        "  def check_balance(self):\n",
        "    print(f\"Current balance: {self.balance}\")\n",
        "\n",
        "  def withdraw(self,amount):\n",
        "    if amount > 0 and amount <= self.balance:\n",
        "      self.balance -= amount\n",
        "      print(f\"Withdraw {amount}\")\n",
        "    else:\n",
        "      print(\"Invalid withdrawal amount or insufficient balance\")\n",
        "\n",
        "a = BankAccout()\n",
        "a.deposit(2000)\n",
        "a.withdraw(500)\n",
        "a.check_balance()"
      ],
      "metadata": {
        "colab": {
          "base_uri": "https://localhost:8080/"
        },
        "id": "x1dULzgJkk2J",
        "outputId": "1e51b1d0-7b93-4628-f8e9-fcd87c0a1102"
      },
      "execution_count": 45,
      "outputs": [
        {
          "output_type": "stream",
          "name": "stdout",
          "text": [
            "Deposited 2000\n",
            "Withdraw 500\n",
            "Current balance: 1500\n"
          ]
        }
      ]
    },
    {
      "cell_type": "markdown",
      "source": [
        "# 6. Demonstrate runtime polymorphism using a method play() in a base class Instrument. Derive classes Guitar and Piano that implement their own version of play()."
      ],
      "metadata": {
        "id": "yRV8uP8kku0G"
      }
    },
    {
      "cell_type": "code",
      "source": [
        "class Instrument:\n",
        "    def play(self):\n",
        "        print(\"This in instrument base class.\")\n",
        "\n",
        "class Guitar(Instrument):\n",
        "    def play(self):\n",
        "        print(\"The guitar is being played.\")\n",
        "\n",
        "class Piano(Instrument):\n",
        "    def play(self):\n",
        "        print(\"The piano is being played.\")\n",
        "\n",
        "\n",
        "guitar = Guitar()\n",
        "piano = Piano()\n",
        "\n",
        "guitar.play()\n",
        "piano.play()"
      ],
      "metadata": {
        "colab": {
          "base_uri": "https://localhost:8080/"
        },
        "id": "f1mBxEnmk6KH",
        "outputId": "a18149f9-3ff1-4496-dca6-75e4e3a5c970"
      },
      "execution_count": 27,
      "outputs": [
        {
          "output_type": "stream",
          "name": "stdout",
          "text": [
            "The guitar is being played.\n",
            "The piano is being played.\n"
          ]
        }
      ]
    },
    {
      "cell_type": "markdown",
      "source": [
        "#  7. Create a class MathOperations with a class method add_numbers() to add two numbers and a static method subtract_numbers() to subtract two numbers."
      ],
      "metadata": {
        "id": "f0HRz_fZk8IY"
      }
    },
    {
      "cell_type": "code",
      "source": [
        "class MathOperations:\n",
        "    @classmethod\n",
        "    def add_numbers(cls, a, b):\n",
        "        return a + b\n",
        "\n",
        "    @staticmethod\n",
        "    def subtract_numbers(a, b):\n",
        "        return a - b\n",
        "sum_num = MathOperations()\n",
        "print(sum.add_numbers(2,3))\n",
        "\n",
        "subtract_num = MathOperations()\n",
        "print(subtract.subtract_numbers(5,3))"
      ],
      "metadata": {
        "colab": {
          "base_uri": "https://localhost:8080/"
        },
        "id": "K-mYtGCglBRn",
        "outputId": "145da962-62e1-4869-d29b-3b07528b3617"
      },
      "execution_count": 57,
      "outputs": [
        {
          "output_type": "stream",
          "name": "stdout",
          "text": [
            "5\n",
            "2\n"
          ]
        }
      ]
    },
    {
      "cell_type": "markdown",
      "source": [
        "#  8. Implement a class Person with a class method to count the total number of persons created."
      ],
      "metadata": {
        "id": "kV43zZ7BlIVh"
      }
    },
    {
      "cell_type": "code",
      "source": [
        "class Person:\n",
        "    count = 0  # Class variable to keep track of the total number of persons\n",
        "    def __init__(self, name, age):\n",
        "        self.name = name\n",
        "        self.age = age\n",
        "        Person.count += 1  # Increment the count when a new person is created\n",
        "\n",
        "    @classmethod\n",
        "    def get_total_persons(cls):\n",
        "        return cls.count\n",
        "\n",
        "P1 = Person(\"Rahul\", 30)\n",
        "P2 = Person(\"Anjali\", 25)\n",
        "P3 = Person(\"Rohit\", 35)\n",
        "\n",
        "total_persons = Person.get_total_persons()\n",
        "print(f\"Total persons created: {total_persons}\")"
      ],
      "metadata": {
        "colab": {
          "base_uri": "https://localhost:8080/"
        },
        "id": "6z1mw10llL0F",
        "outputId": "390ff1c8-9de9-480b-a320-507aa46da341"
      },
      "execution_count": 47,
      "outputs": [
        {
          "output_type": "stream",
          "name": "stdout",
          "text": [
            "Total persons created: 3\n"
          ]
        }
      ]
    },
    {
      "cell_type": "markdown",
      "source": [
        "# 9. Write a class Fraction with attributes numerator and denominator. Override the str method to display the fraction as \"numerator/denominator\"."
      ],
      "metadata": {
        "id": "-rTyEw1x6Bkw"
      }
    },
    {
      "cell_type": "code",
      "source": [
        "class Fraction:\n",
        "    def __init__(self, numerator, denominator):\n",
        "        self.numerator = numerator\n",
        "        self.denominator = denominator\n",
        "\n",
        "    def __str__(self):\n",
        "        return f\"{self.numerator}/{self.denominator}\"\n",
        "\n",
        "\n",
        "fraction = Fraction(3, 4)\n",
        "\n",
        "print(fraction)"
      ],
      "metadata": {
        "colab": {
          "base_uri": "https://localhost:8080/"
        },
        "id": "8VFgTRro6Ihj",
        "outputId": "d7c64af4-0fac-47ce-95a9-f63ff91b1367"
      },
      "execution_count": 48,
      "outputs": [
        {
          "output_type": "stream",
          "name": "stdout",
          "text": [
            "3/4\n"
          ]
        }
      ]
    },
    {
      "cell_type": "markdown",
      "source": [
        "#  10. Demonstrate operator overloading by creating a class Vector and overriding the add method to add two vectors."
      ],
      "metadata": {
        "id": "gdsfnG1f6Ok3"
      }
    },
    {
      "cell_type": "code",
      "source": [
        "class Vector:\n",
        "    def __init__(self, x, y):\n",
        "        self.x = x\n",
        "        self.y = y\n",
        "\n",
        "    def __add__(self, other):\n",
        "        if isinstance(other, Vector):\n",
        "            return Vector(self.x + other.x, self.y + other.y)\n",
        "        return NotImplemented\n",
        "    def __str__(self):\n",
        "        return f\"({self.x}, {self.y})\"\n",
        "\n",
        "v1 = Vector(2, 3)\n",
        "v2 = Vector(4, 5)\n",
        "\n",
        "v3 = v1 + v2\n",
        "\n",
        "print(f\"v1 + v2 = {v3}\")"
      ],
      "metadata": {
        "colab": {
          "base_uri": "https://localhost:8080/"
        },
        "id": "kXdZ-fxD6UT2",
        "outputId": "50e3a057-6baa-4ef4-cdae-7cc923557728"
      },
      "execution_count": 49,
      "outputs": [
        {
          "output_type": "stream",
          "name": "stdout",
          "text": [
            "v1 + v2 = (6, 8)\n"
          ]
        }
      ]
    },
    {
      "cell_type": "markdown",
      "source": [
        "#  11. Create a class Person with attributes name and age. Add a method greet() that prints \"Hello, my name is {name} and I am {age} years old\"."
      ],
      "metadata": {
        "id": "jtvJjRIP6dGx"
      }
    },
    {
      "cell_type": "code",
      "source": [
        "class Person:\n",
        "    def __init__(self, name, age):\n",
        "        self.name = name\n",
        "        self.age = age\n",
        "\n",
        "    def greet(self):\n",
        "        print(f\"Hello, my name is {self.name} and I am {self.age} years old\")\n",
        "\n",
        "person1 = Person(\"Vivek\", 30)\n",
        "\n",
        "person1.greet()"
      ],
      "metadata": {
        "colab": {
          "base_uri": "https://localhost:8080/"
        },
        "id": "K19NZAAc6n2a",
        "outputId": "bdce04b7-db45-4c61-f839-95af018af21f"
      },
      "execution_count": 51,
      "outputs": [
        {
          "output_type": "stream",
          "name": "stdout",
          "text": [
            "Hello, my name is Vivek and I am 30 years old\n"
          ]
        }
      ]
    },
    {
      "cell_type": "markdown",
      "source": [
        "#  12. Implement a class Student with attributes name and grades. Create a method average_grade() to compute the average of the grades."
      ],
      "metadata": {
        "id": "75aB_JJO6tch"
      }
    },
    {
      "cell_type": "code",
      "source": [
        "class Student:\n",
        "    def __init__(self, name, grades):\n",
        "        self.name = name\n",
        "        self.grades = grades  # grades should be a list of numbers\n",
        "\n",
        "    def average_grade(self):\n",
        "        if len(self.grades) == 0:\n",
        "            return 0\n",
        "        return sum(self.grades) / len(self.grades)\n",
        "\n",
        "student1 = Student(\"Vivek\", [85, 90, 78, 92])\n",
        "print(f\"{student1.name}'s average grade is: {student1.average_grade()}\")"
      ],
      "metadata": {
        "id": "uj5I7CkR6yOB"
      },
      "execution_count": null,
      "outputs": []
    },
    {
      "cell_type": "markdown",
      "source": [
        "#  13. Create a class Rectangle with methods set_dimensions() to set the dimensions and area() to calculate the area."
      ],
      "metadata": {
        "id": "n_ZRhs2e68Sc"
      }
    },
    {
      "cell_type": "code",
      "source": [
        "class Rectangle:\n",
        "    def __init__(self):\n",
        "        self.length = 0\n",
        "        self.width = 0\n",
        "\n",
        "    def set_dimensions(self, length, width):\n",
        "        self.length = length\n",
        "        self.width = width\n",
        "\n",
        "    def area(self):\n",
        "        return self.length * self.width\n",
        "\n",
        "rect = Rectangle()\n",
        "\n",
        "rect.set_dimensions(5, 3)\n",
        "\n",
        "area = rect.area()\n",
        "print(f\"The area of the rectangle is: {area}\")"
      ],
      "metadata": {
        "colab": {
          "base_uri": "https://localhost:8080/"
        },
        "id": "Pf9rES_p7Dh9",
        "outputId": "0fe660b3-4c0d-4105-9de9-f56c960749fa"
      },
      "execution_count": 59,
      "outputs": [
        {
          "output_type": "stream",
          "name": "stdout",
          "text": [
            "The area of the rectangle is: 15\n"
          ]
        }
      ]
    },
    {
      "cell_type": "markdown",
      "source": [
        "#  14. Create a class Employee with a method calculate_salary() that computes the salary based on hours worked and hourly rate. Create a derived class Manager that adds a bonus to the salary."
      ],
      "metadata": {
        "id": "tE3K-eHm7ISx"
      }
    },
    {
      "cell_type": "code",
      "source": [
        "class Employee:\n",
        "    def __init__(self, name, hours_worked, hourly_rate):\n",
        "        self.name = name\n",
        "        self.hours_worked = hours_worked\n",
        "        self.hourly_rate = hourly_rate\n",
        "\n",
        "    def calculate_salary(self):\n",
        "        return self.hours_worked * self.hourly_rate\n",
        "\n",
        "class Manager(Employee):\n",
        "    def __init__(self, name, hours_worked, hourly_rate, bonus):\n",
        "        super().__init__(name, hours_worked, hourly_rate)\n",
        "        self.bonus = bonus\n",
        "\n",
        "    def calculate_salary(self):\n",
        "        salary = super().calculate_salary()\n",
        "        return salary + self.bonus\n",
        "\n",
        "\n",
        "manager = Manager(\"Vivek\", 40, 25, 500)\n",
        "\n",
        "manager_salary = manager.calculate_salary()\n",
        "print(f\"{manager.name}'s salary (with bonus): ${manager_salary}\")"
      ],
      "metadata": {
        "colab": {
          "base_uri": "https://localhost:8080/"
        },
        "id": "tEvuHtny7Ma9",
        "outputId": "c4643946-2193-4fd8-ee5b-067e8928f6a0"
      },
      "execution_count": 62,
      "outputs": [
        {
          "output_type": "stream",
          "name": "stdout",
          "text": [
            "Vivek's salary (with bonus): $1500\n"
          ]
        }
      ]
    },
    {
      "cell_type": "markdown",
      "source": [
        "# 15. Create a class Product with attributes name, price, and quantity. Implement a method total_price() that calculates the total price of the product."
      ],
      "metadata": {
        "id": "fOEnoS507mtu"
      }
    },
    {
      "cell_type": "code",
      "source": [
        "class Product:\n",
        "    def __init__(self, name, price, quantity):\n",
        "        self.name = name\n",
        "        self.price = price\n",
        "        self.quantity = quantity\n",
        "\n",
        "    def total_price(self):\n",
        "\n",
        "        return self.price * self.quantity\n",
        "\n",
        "\n",
        "product1 = Product(\"Laptop\", 1000, 3)\n",
        "\n",
        "total = product1.total_price()\n",
        "\n",
        "print(f\"The total price for {product1.name} is: {total}\")"
      ],
      "metadata": {
        "colab": {
          "base_uri": "https://localhost:8080/"
        },
        "id": "r3DV85su7q5d",
        "outputId": "d7e53234-01f2-451c-911f-11443303b3cc"
      },
      "execution_count": 64,
      "outputs": [
        {
          "output_type": "stream",
          "name": "stdout",
          "text": [
            "The total price for Laptop is: 3000\n"
          ]
        }
      ]
    },
    {
      "cell_type": "markdown",
      "source": [
        "#  16. Create a class Animal with an abstract method sound(). Create two derived classes Cow and Sheep that implement the sound() method."
      ],
      "metadata": {
        "id": "xTJiRGT37yEa"
      }
    },
    {
      "cell_type": "code",
      "source": [
        "from abc import ABC, abstractmethod\n",
        "\n",
        "class Animal(ABC):\n",
        "    @abstractmethod\n",
        "    def sound(self):\n",
        "        pass\n",
        "\n",
        "class Cow(Animal):\n",
        "    def sound(self):\n",
        "        print(\"Moo\")\n",
        "\n",
        "class Sheep(Animal):\n",
        "    def sound(self):\n",
        "        print(\"Baa\")\n",
        "\n",
        "cow = Cow()\n",
        "sheep = Sheep()\n",
        "\n",
        "cow.sound()\n",
        "sheep.sound()"
      ],
      "metadata": {
        "colab": {
          "base_uri": "https://localhost:8080/"
        },
        "id": "qOu-8wZ774gw",
        "outputId": "e04898df-b210-494c-c944-6e953429910e"
      },
      "execution_count": 65,
      "outputs": [
        {
          "output_type": "stream",
          "name": "stdout",
          "text": [
            "Moo\n",
            "Baa\n"
          ]
        }
      ]
    },
    {
      "cell_type": "markdown",
      "source": [
        "#  17. Create a class Book with attributes title, author, and year_published. Add a method get_book_info() that returns a formatted string with the book's details."
      ],
      "metadata": {
        "id": "XfC4wavP8Esj"
      }
    },
    {
      "cell_type": "code",
      "source": [
        "class Book:\n",
        "    def __init__(self, title, author, year_published):\n",
        "        self.title = title\n",
        "        self.author = author\n",
        "        self.year_published = year_published\n",
        "\n",
        "    def get_book_info(self):\n",
        "        return f\"'{self.title}' by {self.author}, published in {self.year_published}\"\n",
        "\n",
        "\n",
        "book1 = Book(\"DS\", \"Vivek\", 2025)\n",
        "\n",
        "book_info = book1.get_book_info()\n",
        "print(book_info)"
      ],
      "metadata": {
        "colab": {
          "base_uri": "https://localhost:8080/"
        },
        "id": "1aFwuhna8Ik0",
        "outputId": "613deba2-3a6a-4658-fc1f-46573c809587"
      },
      "execution_count": 66,
      "outputs": [
        {
          "output_type": "stream",
          "name": "stdout",
          "text": [
            "'DS' by Vivek, published in 2025\n"
          ]
        }
      ]
    },
    {
      "cell_type": "markdown",
      "source": [
        "#  18. Create a class House with attributes address and price. Create a derived class Mansion that adds an attribute number_of_rooms."
      ],
      "metadata": {
        "id": "SqsSsOCx8aPp"
      }
    },
    {
      "cell_type": "code",
      "source": [
        "class House:\n",
        "    def __init__(self, address, price):\n",
        "        self.address = address\n",
        "        self.price = price\n",
        "\n",
        "    def get_info(self):\n",
        "        return f\"House at {self.address} costs {self.price}\"\n",
        "\n",
        "class Mansion(House):\n",
        "    def __init__(self, address, price, number_of_rooms):\n",
        "        super().__init__(address, price)\n",
        "        self.number_of_rooms = number_of_rooms\n",
        "\n",
        "    def get_info(self):\n",
        "        base_info = super().get_info()\n",
        "        return f\"{base_info} and has {self.number_of_rooms} rooms.\"\n",
        "\n",
        "mansion = Mansion(\"Pune Maharashtra, India\", 5000000, 10)\n",
        "\n",
        "print(mansion.get_info())"
      ],
      "metadata": {
        "colab": {
          "base_uri": "https://localhost:8080/"
        },
        "id": "GGeuNHLs8k5n",
        "outputId": "18b826a4-a369-4900-9aa3-ea5c628a8b9f"
      },
      "execution_count": 71,
      "outputs": [
        {
          "output_type": "stream",
          "name": "stdout",
          "text": [
            "House at Pune Maharashtra, India costs 5000000 and has 10 rooms.\n"
          ]
        }
      ]
    },
    {
      "cell_type": "code",
      "source": [],
      "metadata": {
        "id": "JiOg1b44hDrP"
      },
      "execution_count": null,
      "outputs": []
    }
  ]
}