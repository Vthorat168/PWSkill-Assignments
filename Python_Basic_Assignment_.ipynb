{
  "nbformat": 4,
  "nbformat_minor": 0,
  "metadata": {
    "colab": {
      "provenance": []
    },
    "kernelspec": {
      "name": "python3",
      "display_name": "Python 3"
    },
    "language_info": {
      "name": "python"
    }
  },
  "cells": [
    {
      "cell_type": "markdown",
      "source": [
        "1. What is Python, and why is it popular\n",
        "  - Python is a programing language, it is widely used also easy to learn and huge number of library available for python.\n",
        "2. What is an interpreter in Python\n",
        "  - Read code line by line.\n",
        "3. What are pre-defined keywords in Python\n",
        "  - Reserved words that have predefined meanings & function.\n",
        "4. Can keywords be used as variable names\n",
        "  - No.\n",
        "5. What is mutability in Python\n",
        "  - Object's ability to be modified after it is created.\n",
        "6. Why are lists mutable, but tuples are immutable\n",
        "  - Lists are mutable because they are designed to allow for changes in their content. tuples are immutable because their contents cannot be modified after initialization.\n",
        "7. What is the difference between “==” and “is” operators in Python\n",
        "  - \"==\" is Equality Operator and \"is\" is Identity Operator.\n",
        "8. What are logical operators in Python\n",
        "  - And, Or, Not\n",
        "9. What is type casting in Python.\n",
        "  - changing a variable's data type to another.\n",
        "10. What is the difference between implicit and explicit type casting\n",
        "  - Implicit type casting happens automatically by the compiler, while explicit type casting requires the programmer to define the conversion using specific syntax.\n",
        "11. What is the purpose of conditional statements in Python\n",
        "  - Conditional statements in Python are used to execute certain blocks of code based on specific conditions.\n",
        "12. How does the elif statement work.\n",
        "  - The elif statement in Python allows for multiple conditions to be checked sequentially.\n",
        "13. What is the difference between for and while loops?\n",
        "  - For loop is used to iterate over a sequence of items. While loop is used to repeatedly execute a block of statements while a condition is true.\n",
        "14. Describe a scenario where a while loop is more suitable than a for loop.\n",
        "  - when the number of iterations needed is not known in advance and depends on a specific condition being met.\n"
      ],
      "metadata": {
        "id": "o7EjYfxdLB-0"
      }
    },
    {
      "cell_type": "code",
      "execution_count": null,
      "metadata": {
        "colab": {
          "base_uri": "https://localhost:8080/"
        },
        "id": "O-X8T-FCK230",
        "outputId": "67c330d4-8a44-42c7-c3ef-108c0abf5643"
      },
      "outputs": [
        {
          "output_type": "stream",
          "name": "stdout",
          "text": [
            "Hello, World!\n"
          ]
        }
      ],
      "source": [
        "# 1. Write a Python program to print \"Hello, World!\n",
        "\n",
        "print(\"Hello, World!\")"
      ]
    },
    {
      "cell_type": "code",
      "source": [
        "# 2. Write a Python program that displays your name and age\n",
        "\n",
        "Name = \"Vivek\"\n",
        "age = 32\n",
        "\n",
        "print(f\"My name is {Name} and my age is {age}\")"
      ],
      "metadata": {
        "colab": {
          "base_uri": "https://localhost:8080/"
        },
        "id": "tlnDpjAcMvSe",
        "outputId": "fd726ed8-02bd-4ad3-84eb-913cc41eb499"
      },
      "execution_count": null,
      "outputs": [
        {
          "output_type": "stream",
          "name": "stdout",
          "text": [
            "My name is Vivek and my age is 32\n"
          ]
        }
      ]
    },
    {
      "cell_type": "code",
      "source": [
        "# 3.  Write code to print all the pre-defined keywords in Python using the keyword library8\n",
        "help(\"keywords\")"
      ],
      "metadata": {
        "id": "KyHq4wZLNOyf",
        "colab": {
          "base_uri": "https://localhost:8080/"
        },
        "outputId": "1f679203-b89d-48e8-8f36-704bf93d02e9"
      },
      "execution_count": null,
      "outputs": [
        {
          "output_type": "stream",
          "name": "stdout",
          "text": [
            "\n",
            "Here is a list of the Python keywords.  Enter any keyword to get more help.\n",
            "\n",
            "False               class               from                or\n",
            "None                continue            global              pass\n",
            "True                def                 if                  raise\n",
            "and                 del                 import              return\n",
            "as                  elif                in                  try\n",
            "assert              else                is                  while\n",
            "async               except              lambda              with\n",
            "await               finally             nonlocal            yield\n",
            "break               for                 not                 \n",
            "\n"
          ]
        }
      ]
    },
    {
      "cell_type": "code",
      "source": [
        "#4. Write a program that checks if a given word is a Python keyword\n",
        "\n",
        "word = input(\"Enter a word: \")\n",
        "\n",
        "if (word == help(\"keywords\")):\n",
        "  print(\"Word is a Python keyword\")\n",
        "else:\n",
        "  print(\"Word is not a Python keyword\")"
      ],
      "metadata": {
        "id": "hsqRPhMoXASd",
        "colab": {
          "base_uri": "https://localhost:8080/"
        },
        "outputId": "25ccdd15-40d6-47b3-a576-a1d007a5a8c5"
      },
      "execution_count": null,
      "outputs": [
        {
          "output_type": "stream",
          "name": "stdout",
          "text": [
            "Enter a word ABC\n",
            "\n",
            "Here is a list of the Python keywords.  Enter any keyword to get more help.\n",
            "\n",
            "False               class               from                or\n",
            "None                continue            global              pass\n",
            "True                def                 if                  raise\n",
            "and                 del                 import              return\n",
            "as                  elif                in                  try\n",
            "assert              else                is                  while\n",
            "async               except              lambda              with\n",
            "await               finally             nonlocal            yield\n",
            "break               for                 not                 \n",
            "\n",
            "Word is not a Python keyword\n"
          ]
        }
      ]
    },
    {
      "cell_type": "code",
      "source": [
        "#5. Create a list and tuple in Python, and demonstrate how attempting to change an element works differently for each\n",
        "\n",
        "Test_list = [1,2,3,4,5]\n",
        "Test_tuple = (1,2,3,4,5)\n",
        "\n",
        "Test_list[0] = 10\n",
        "print(Test_list)\n",
        "\n",
        "Test_tuple[0] = 10\n",
        "print(Test_tuple)"
      ],
      "metadata": {
        "id": "4L94jVRN-v9J",
        "colab": {
          "base_uri": "https://localhost:8080/",
          "height": 211
        },
        "outputId": "cb0cecf8-5b3d-45ff-b479-d198a137717f"
      },
      "execution_count": null,
      "outputs": [
        {
          "output_type": "stream",
          "name": "stdout",
          "text": [
            "[10, 2, 3, 4, 5]\n"
          ]
        },
        {
          "output_type": "error",
          "ename": "TypeError",
          "evalue": "'tuple' object does not support item assignment",
          "traceback": [
            "\u001b[0;31m---------------------------------------------------------------------------\u001b[0m",
            "\u001b[0;31mTypeError\u001b[0m                                 Traceback (most recent call last)",
            "\u001b[0;32m<ipython-input-53-007f256fd348>\u001b[0m in \u001b[0;36m<cell line: 0>\u001b[0;34m()\u001b[0m\n\u001b[1;32m      7\u001b[0m \u001b[0mprint\u001b[0m\u001b[0;34m(\u001b[0m\u001b[0mTest_list\u001b[0m\u001b[0;34m)\u001b[0m\u001b[0;34m\u001b[0m\u001b[0;34m\u001b[0m\u001b[0m\n\u001b[1;32m      8\u001b[0m \u001b[0;34m\u001b[0m\u001b[0m\n\u001b[0;32m----> 9\u001b[0;31m \u001b[0mTest_tuple\u001b[0m\u001b[0;34m[\u001b[0m\u001b[0;36m0\u001b[0m\u001b[0;34m]\u001b[0m \u001b[0;34m=\u001b[0m \u001b[0;36m10\u001b[0m\u001b[0;34m\u001b[0m\u001b[0;34m\u001b[0m\u001b[0m\n\u001b[0m\u001b[1;32m     10\u001b[0m \u001b[0mprint\u001b[0m\u001b[0;34m(\u001b[0m\u001b[0mTest_tuple\u001b[0m\u001b[0;34m)\u001b[0m\u001b[0;34m\u001b[0m\u001b[0;34m\u001b[0m\u001b[0m\n",
            "\u001b[0;31mTypeError\u001b[0m: 'tuple' object does not support item assignment"
          ]
        }
      ]
    },
    {
      "cell_type": "code",
      "source": [
        "#6. Write a function to demonstrate the behavior of mutable and immutable arguments.\n",
        "\n",
        "Test_list = [1,2,3,4,5]\n",
        "Test_list[0] = 11\n",
        "print(Test_list)"
      ],
      "metadata": {
        "id": "HkZA_B0w-zam",
        "colab": {
          "base_uri": "https://localhost:8080/"
        },
        "outputId": "93c0a82c-dfd8-4d98-ade4-e028cc697f07"
      },
      "execution_count": null,
      "outputs": [
        {
          "output_type": "stream",
          "name": "stdout",
          "text": [
            "[11, 2, 3, 4, 5]\n"
          ]
        }
      ]
    },
    {
      "cell_type": "code",
      "source": [
        "#7. Write a program that performs basic arithmetic operations on two user-input numbers.\n",
        "a = int(input(\"Enter a number\"))\n",
        "b = int(input(\"Enter a number\"))\n",
        "\n",
        "print(a+b)\n",
        "print(a-b)"
      ],
      "metadata": {
        "id": "fd5fMmUZ--sG",
        "colab": {
          "base_uri": "https://localhost:8080/"
        },
        "outputId": "3659e08b-c9c8-4ec0-d8b7-803d43229c38"
      },
      "execution_count": null,
      "outputs": [
        {
          "output_type": "stream",
          "name": "stdout",
          "text": [
            "Enter a number10\n",
            "Enter a number5\n",
            "15\n",
            "5\n"
          ]
        }
      ]
    },
    {
      "cell_type": "code",
      "source": [
        "#8. Write a program to demonstrate the use of logical operators.\n",
        "\n",
        "a = 10\n",
        "b = 15\n",
        "c = 20\n",
        "\n",
        "print(a > 15 and b > 10)\n",
        "print(a > 15 or b > 10)\n"
      ],
      "metadata": {
        "id": "dnTbhLTB_H9e",
        "colab": {
          "base_uri": "https://localhost:8080/"
        },
        "outputId": "1b75e7e2-d933-4154-fd67-c6a0d7c78b94"
      },
      "execution_count": null,
      "outputs": [
        {
          "output_type": "stream",
          "name": "stdout",
          "text": [
            "False\n",
            "True\n"
          ]
        }
      ]
    },
    {
      "cell_type": "code",
      "source": [
        "#9. Write a Python program to convert user input from string to integer, float, and boolean types.\n",
        "\n",
        "a =\"10\"\n",
        "\n",
        "print(int(a))\n",
        "print(float(a))\n",
        "print(bool(a))"
      ],
      "metadata": {
        "id": "5k0ToF7O_OV-",
        "colab": {
          "base_uri": "https://localhost:8080/"
        },
        "outputId": "b05ceeb0-1ce2-4477-bebd-f231d423b2ae"
      },
      "execution_count": null,
      "outputs": [
        {
          "output_type": "stream",
          "name": "stdout",
          "text": [
            "10\n",
            "10.0\n",
            "True\n"
          ]
        }
      ]
    },
    {
      "cell_type": "code",
      "source": [
        "#10. Write code to demonstrate type casting with list elements\n",
        "\n",
        "Test_list1 = [1,\"2\",\"apple\",3.4]\n",
        "Test_list1[1]=int(10)\n",
        "print(Test_list1)\n",
        "type(Test_list1[1])"
      ],
      "metadata": {
        "id": "69S1_sKK_T0m",
        "colab": {
          "base_uri": "https://localhost:8080/"
        },
        "outputId": "fa6db740-67f8-4047-c869-7cfc764880bd"
      },
      "execution_count": null,
      "outputs": [
        {
          "output_type": "stream",
          "name": "stdout",
          "text": [
            "[1, 10, 'apple', 3.4]\n"
          ]
        },
        {
          "output_type": "execute_result",
          "data": {
            "text/plain": [
              "int"
            ]
          },
          "metadata": {},
          "execution_count": 18
        }
      ]
    },
    {
      "cell_type": "code",
      "source": [
        "#11. Write a program that checks if a number is positive, negative, or zero\n",
        "\n",
        "Number = int(input(\"Enter a Number\"))\n",
        "\n",
        "if Number > 0:\n",
        "    print(\"Number is Positive\")\n",
        "elif Number < 0:\n",
        "    print(\"Number is Negative\")\n",
        "else:\n",
        "    print(\"Number is Zero\")"
      ],
      "metadata": {
        "id": "YuzcGfkn_aP-",
        "colab": {
          "base_uri": "https://localhost:8080/"
        },
        "outputId": "dbbd3a84-fee8-4c12-a0de-cd96c96ad725"
      },
      "execution_count": null,
      "outputs": [
        {
          "output_type": "stream",
          "name": "stdout",
          "text": [
            "Enter a Number10\n",
            "Number is Positive\n"
          ]
        }
      ]
    },
    {
      "cell_type": "code",
      "source": [
        "#12. Write a for loop to print numbers from 1 to 10\n",
        "\n",
        "for i in range(1,10):\n",
        "  print(i, end = \" \")"
      ],
      "metadata": {
        "id": "h81zxJ6__cxW",
        "colab": {
          "base_uri": "https://localhost:8080/"
        },
        "outputId": "5c2ce9bf-2a5c-4e0e-9d45-d7e90ffee41e"
      },
      "execution_count": null,
      "outputs": [
        {
          "output_type": "stream",
          "name": "stdout",
          "text": [
            "1 2 3 4 5 6 7 8 9 "
          ]
        }
      ]
    },
    {
      "cell_type": "code",
      "source": [
        "#13. Write a Python program to find the sum of all even numbers between 1 and 50\n",
        "\n",
        "sum = 0\n",
        "\n",
        "for i in range(0,50):\n",
        "  if i%2 == 0:\n",
        "    sum = sum + i\n",
        "print(sum)\n"
      ],
      "metadata": {
        "id": "O1OfZTbY_f_e",
        "colab": {
          "base_uri": "https://localhost:8080/"
        },
        "outputId": "a8c99fe2-645a-443e-b974-3d45d553befc"
      },
      "execution_count": 42,
      "outputs": [
        {
          "output_type": "stream",
          "name": "stdout",
          "text": [
            "600\n"
          ]
        }
      ]
    },
    {
      "cell_type": "code",
      "source": [
        "#14. Write a program to reverse a string using a while loop\n",
        "\n",
        "str = \"PWSkill\" [:: -1]\n",
        "print(str)"
      ],
      "metadata": {
        "id": "Tl-fuyuw_ivu",
        "colab": {
          "base_uri": "https://localhost:8080/"
        },
        "outputId": "8918e0cf-dca4-49f2-edfa-936b3c84f2cb"
      },
      "execution_count": 46,
      "outputs": [
        {
          "output_type": "stream",
          "name": "stdout",
          "text": [
            "llikSWP\n"
          ]
        }
      ]
    },
    {
      "cell_type": "code",
      "source": [
        "#15. Write a Python program to calculate the factorial of a number provided by the user using a while loop\n",
        "\n",
        "number = int(input(\"Enter a Number: \"))\n",
        "factorial = 1\n",
        "\n",
        "if number < 0:\n",
        "    print(\"Factorial is not defined for negative numbers.\")\n",
        "elif number == 0:\n",
        "    print(\"The factorial of 0 is 1\")\n",
        "else:\n",
        "    while number > 0:\n",
        "        factorial *= number\n",
        "        number -= 1\n",
        "    print(factorial)"
      ],
      "metadata": {
        "id": "LLCiMN-M_mJO",
        "colab": {
          "base_uri": "https://localhost:8080/"
        },
        "outputId": "cf557898-317a-4f26-9e84-c89901eb159c"
      },
      "execution_count": 52,
      "outputs": [
        {
          "output_type": "stream",
          "name": "stdout",
          "text": [
            "Enter a Number: 5\n",
            "120\n"
          ]
        }
      ]
    },
    {
      "cell_type": "code",
      "source": [],
      "metadata": {
        "id": "Koa-I1YQk1ih"
      },
      "execution_count": null,
      "outputs": []
    }
  ]
}